{
 "cells": [
  {
   "cell_type": "markdown",
   "metadata": {},
   "source": [
    "# Week1 - Applied plotting, Charting & Data Representation in Python,\n",
    "## Assignment1 - Misleading Visual Study"
   ]
  },
  {
   "cell_type": "markdown",
   "metadata": {},
   "source": [
    "This is the First assignment of the Second Course of Specialiazation of applied Data Science in Python on Coursera.\n",
    "\n",
    "This Study of the misleading example of visualization is just used for my own study and research purpose, without any ironic intents to the author of the chart. Please do understand it! Thank you.\n",
    "\n",
    "Read Alberto Cairo’s work, [Graphics Lies, Misleading Visuals](https://faculty.ucmerced.edu/jvevea/classes/Spark/readings/Cairo2015_Chapter_GraphicsLiesMisleadingVisuals.pdf)\n",
    "\n",
    "Locate an example of a misleading visual that uses one or more of the mechanisms for misleading that Cairo outlines in his book chapter: (1) Hiding relevant data; (2) Displaying too much data and obscuring reality; (3) Distorting data through visual forms.\n",
    "\n",
    "Please upload an image of this visual using a widely accessible graphic format (e.g., PDF, .jpg, .png)"
   ]
  },
  {
   "cell_type": "markdown",
   "metadata": {},
   "source": [
    "![](week_1/business-climate-average-weekly-working-time-svg-data.svg)\n",
    "Misleading Example\n",
    "\n",
    "## Briefly describe the context for the visual by addressing the following questions:\n",
    "\n",
    "1. What is the source of the visual? (e.g., URL or bibliographic citation)\n",
    "2. Who is the intended audience (i.e., decoders)? How do you know this?"
   ]
  },
  {
   "cell_type": "markdown",
   "metadata": {},
   "source": [
    "1. The source from GTAI:https://www.gtai.de/gtai-en/invest/business-location-germany/business-climate/motivated-and-dependable-employees-81844\n",
    "2. The intended audience are investors who want to invest in Germany. They want to know the average of number weekly working hours of Germany and compare with other country."
   ]
  },
  {
   "cell_type": "markdown",
   "metadata": {},
   "source": [
    "## Descriptions of the assignment part2:\n",
    "1. Identify the specific component(s) of the visual that is/are misleading\n",
    "2. For each part(s) of the visualization that is/are misleading, identify the mechanism that is used: hiding relevant data to highlight what benefits us; displaying too much data to obscure reality; using graphic forms in inappropriate ways (distorting the data)\n",
    "3. Explain how the mechanisms are used to mislead"
   ]
  },
  {
   "cell_type": "markdown",
   "metadata": {},
   "source": [
    "## Answer 2:\n",
    "1. This chart contains all the one misleading characteristics is using graphic forms in inappropriate ways (distorting the data)\n",
    "2. Author not include zero to bar chart to distort the data.\n",
    "3. The bar graph emphasizes the absolute magnitude of values associated with each category. But the author not include zero to help  looks like Germany has a big edge over other nations such as Sweden or Italy.  The graph is misleading because the horizontal axis representing working hours does not go to zero, but rather cuts off at 39. If, we've redrawn the graph with an axis going all the way to zero. Now the differences between countries seem negligible."
   ]
  },
  {
   "cell_type": "code",
   "execution_count": null,
   "metadata": {},
   "outputs": [],
   "source": []
  }
 ],
 "metadata": {
  "kernelspec": {
   "display_name": "Python 3",
   "language": "python",
   "name": "python3"
  },
  "language_info": {
   "codemirror_mode": {
    "name": "ipython",
    "version": 3
   },
   "file_extension": ".py",
   "mimetype": "text/x-python",
   "name": "python",
   "nbconvert_exporter": "python",
   "pygments_lexer": "ipython3",
   "version": "3.8.3"
  }
 },
 "nbformat": 4,
 "nbformat_minor": 4
}
