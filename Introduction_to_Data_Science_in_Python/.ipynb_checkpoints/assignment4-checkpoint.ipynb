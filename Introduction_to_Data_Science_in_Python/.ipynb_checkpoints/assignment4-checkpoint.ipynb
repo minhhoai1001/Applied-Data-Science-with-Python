{
 "cells": [
  {
   "cell_type": "markdown",
   "metadata": {
    "deletable": false,
    "editable": false,
    "nbgrader": {
     "checksum": "48770f8b5f5d3062d3badd51fcafc401",
     "grade": false,
     "grade_id": "cell-a6c4f74309fc2379",
     "locked": true,
     "schema_version": 1,
     "solution": false
    }
   },
   "source": [
    "# Assignment 4\n",
    "## Description\n",
    "In this assignment you must read in a file of metropolitan regions and associated sports teams from [assets/wikipedia_data.html](assets/wikipedia_data.html) and answer some questions about each metropolitan region. Each of these regions may have one or more teams from the \"Big 4\": NFL (football, in [assets/nfl.csv](assets/nfl.csv)), MLB (baseball, in [assets/mlb.csv](assets/mlb.csv)), NBA (basketball, in [assets/nba.csv](assets/nba.csv) or NHL (hockey, in [assets/nhl.csv](assets/nhl.csv)). Please keep in mind that all questions are from the perspective of the metropolitan region, and that this file is the \"source of authority\" for the location of a given sports team. Thus teams which are commonly known by a different area (e.g. \"Oakland Raiders\") need to be mapped into the metropolitan region given (e.g. San Francisco Bay Area). This will require some human data understanding outside of the data you've been given (e.g. you will have to hand-code some names, and might need to google to find out where teams are)!\n",
    "\n",
    "For each sport I would like you to answer the question: **what is the win/loss ratio's correlation with the population of the city it is in?** Win/Loss ratio refers to the number of wins over the number of wins plus the number of losses. Remember that to calculate the correlation with [`pearsonr`](https://docs.scipy.org/doc/scipy/reference/generated/scipy.stats.pearsonr.html), so you are going to send in two ordered lists of values, the populations from the wikipedia_data.html file and the win/loss ratio for a given sport in the same order. Average the win/loss ratios for those cities which have multiple teams of a single sport. Each sport is worth an equal amount in this assignment (20%\\*4=80%) of the grade for this assignment. You should only use data **from year 2018** for your analysis -- this is important!\n",
    "\n",
    "## Notes\n",
    "\n",
    "1. Do not include data about the MLS or CFL in any of the work you are doing, we're only interested in the Big 4 in this assignment.\n",
    "2. I highly suggest that you first tackle the four correlation questions in order, as they are all similar and worth the majority of grades for this assignment. This is by design!\n",
    "3. It's fair game to talk with peers about high level strategy as well as the relationship between metropolitan areas and sports teams. However, do not post code solving aspects of the assignment (including such as dictionaries mapping areas to teams, or regexes which will clean up names).\n",
    "4. There may be more teams than the assert statements test, remember to collapse multiple teams in one city into a single value!"
   ]
  },
  {
   "cell_type": "markdown",
   "metadata": {
    "deletable": false,
    "editable": false,
    "nbgrader": {
     "checksum": "369ff9ecf0ee04640574205cbc697f94",
     "grade": false,
     "grade_id": "cell-712b2b5da63d4505",
     "locked": true,
     "schema_version": 1,
     "solution": false
    }
   },
   "source": [
    "## Question 1\n",
    "For this question, calculate the win/loss ratio's correlation with the population of the city it is in for the **NHL** using **2018** data."
   ]
  },
  {
   "cell_type": "code",
   "execution_count": 80,
   "metadata": {
    "deletable": false,
    "nbgrader": {
     "checksum": "1cac4803b02502929f5b1612d48db2b5",
     "grade": false,
     "grade_id": "cell-69b16e4386e58030",
     "locked": false,
     "schema_version": 1,
     "solution": true
    }
   },
   "outputs": [
    {
     "name": "stdout",
     "output_type": "stream",
     "text": [
      "        Metropolitan area        team  Population\n",
      "0           New York City     Rangers    20153634\n",
      "1             Los Angeles       Kings    13310447\n",
      "2  San Francisco Bay Area      Sharks     6657982\n",
      "3                 Chicago  Blackhawks     9512999\n",
      "4       Dallas–Fort Worth       Stars     7233323\n",
      "5        Washington, D.C.    Capitals     6131977\n",
      "6            Philadelphia      Flyers     6070500\n",
      "7                  Boston      Bruins     4794447\n",
      "8  Minneapolis–Saint Paul        Wild     3551036\n",
      "9                  Denver   Avalanche     2853077\n",
      "         team   W   L      W/L%\n",
      "1   Lightning  54  23  0.701299\n",
      "2      Bruins  50  20  0.714286\n",
      "3       Leafs  49  26  0.653333\n",
      "4    Panthers  44  30  0.594595\n",
      "5       Wings  30  39  0.434783\n",
      "6   Canadiens  29  40  0.420290\n",
      "7    Senators  28  43  0.394366\n",
      "8      Sabres  25  45  0.357143\n",
      "10   Capitals  49  26  0.653333\n",
      "11   Penguins  47  29  0.618421\n",
      "                       W/L%  Population\n",
      "Metropolitan area                      \n",
      "Boston             0.714286     4794447\n",
      "Buffalo            0.357143     1132804\n",
      "Calgary            0.513889     1392609\n",
      "Chicago            0.458333     9512999\n",
      "Columbus           0.600000     2041520\n",
      "Dallas–Fort Worth  0.567568     7233323\n",
      "Denver             0.589041     2853077\n",
      "Detroit            0.434783     4297617\n",
      "Edmonton           0.473684     1321426\n",
      "Las Vegas          0.680000     2155664\n"
     ]
    },
    {
     "data": {
      "text/plain": [
       "0.012486162921209923"
      ]
     },
     "execution_count": 80,
     "metadata": {},
     "output_type": "execute_result"
    }
   ],
   "source": [
    "import pandas as pd\n",
    "import numpy as np\n",
    "import scipy.stats as stats\n",
    "import re\n",
    "\n",
    "cities = pd.read_html(\"assets/wikipedia_data.html\")[1]\n",
    "cities = cities.iloc[:-1, [0, 3, 5, 6, 7, 8]]\n",
    "cities.rename(columns={\"Population (2016 est.)[8]\": \"Population\"},\n",
    "              inplace=True)\n",
    "cities['NFL'] = cities['NFL'].str.replace(r\"\\[.*\\]\", \"\")\n",
    "cities['MLB'] = cities['MLB'].str.replace(r\"\\[.*\\]\", \"\")\n",
    "cities['NBA'] = cities['NBA'].str.replace(r\"\\[.*\\]\", \"\")\n",
    "cities['NHL'] = cities['NHL'].str.replace(r\"\\[.*\\]\", \"\")\n",
    "\n",
    "Big4='NHL'\n",
    "\n",
    "def nhl_correlation():\n",
    "    # YOUR CODE HERE\n",
    "    # raise NotImplementedError()\n",
    "    \n",
    "    team = cities[Big4].str.extract('([A-Z]{0,2}[a-z0-9]*\\ [A-Z]{0,2}[a-z0-9]*|[A-Z]{0,2}[a-z0-9]*)([A-Z]{0,2}[a-z0-9]*\\ [A-Z]{0,2}[a-z0-9]*|[A-Z]{0,2}[a-z0-9]*)([A-Z]{0,2}[a-z0-9]*\\ [A-Z]{0,2}[a-z0-9]*|[A-Z]{0,2}[a-z0-9]*)')\n",
    "    team['Metropolitan area']=cities['Metropolitan area']\n",
    "    team = pd.melt(team, id_vars=['Metropolitan area']).drop(columns=['variable']).replace(\"\",np.nan).replace(\"—\",np.nan)\n",
    "    team = team.dropna().reset_index().rename(columns = {\"value\":\"team\"})\n",
    "    team = pd.merge(team,cities,how='left',on = 'Metropolitan area').iloc[:,1:4]\n",
    "    team = team.astype({'Metropolitan area': str, 'team': str, 'Population': int})\n",
    "    team['team']=team['team'].str.replace('[\\w.]*\\ ','')\n",
    "    \n",
    "    print(team.head(10))\n",
    "    nhl_df=pd.read_csv(\"assets/\"+str.lower(Big4)+\".csv\")\n",
    "    nhl_df = nhl_df[nhl_df['year'] == 2018]\n",
    "    nhl_df['team'] = nhl_df['team'].str.replace(r'\\*',\"\")\n",
    "    nhl_df = nhl_df[['team','W','L']]\n",
    "    \n",
    "    #print(nhl_df.head(10))\n",
    "    dropList=[]\n",
    "    for i in range(nhl_df.shape[0]):\n",
    "        row=nhl_df.iloc[i]\n",
    "        if row['team']==row['W'] and row['L']==row['W']:\n",
    "            dropList.append(i)\n",
    "    nhl_df=nhl_df.drop(dropList)\n",
    "\n",
    "    nhl_df['team'] = nhl_df['team'].str.replace('[\\w.]* ','')\n",
    "\n",
    "    nhl_df = nhl_df.astype({'team': str,'W': int, 'L': int})\n",
    "    nhl_df['W/L%'] = nhl_df['W']/(nhl_df['W']+nhl_df['L'])\n",
    "    print(nhl_df.head(10))\n",
    "    merge=pd.merge(team,nhl_df,'outer', on = 'team')\n",
    "    merge=merge.groupby('Metropolitan area').agg({'W/L%': np.nanmean, 'Population': np.nanmean})\n",
    "    \n",
    "    print(merge.head(10))\n",
    "    population_by_region = merge['Population'] # pass in metropolitan area population from cities\n",
    "    win_loss_by_region = merge['W/L%'] # pass in win/loss ratio from _df in the same order as cities[\"Metropolitan area\"]   \n",
    "\n",
    "    assert len(population_by_region) == len(\n",
    "        win_loss_by_region), \"Q1: Your lists must be the same length\"\n",
    "    assert len(population_by_region\n",
    "               ) == 28, \"Q1: There should be 28 teams being analysed for NHL\"\n",
    "\n",
    "    return stats.pearsonr(population_by_region, win_loss_by_region)[0]\n",
    "\n",
    "nhl_correlation()"
   ]
  },
  {
   "cell_type": "code",
   "execution_count": null,
   "metadata": {
    "deletable": false,
    "editable": false,
    "nbgrader": {
     "checksum": "52a581df513c71153e105b93764cda4b",
     "grade": true,
     "grade_id": "cell-ebe0b2dfe1067e63",
     "locked": true,
     "points": 20,
     "schema_version": 1,
     "solution": false
    }
   },
   "outputs": [],
   "source": []
  },
  {
   "cell_type": "markdown",
   "metadata": {
    "deletable": false,
    "editable": false,
    "nbgrader": {
     "checksum": "988912cae4968d81473f46d783e79c16",
     "grade": false,
     "grade_id": "cell-cb964e690298b71d",
     "locked": true,
     "schema_version": 1,
     "solution": false
    }
   },
   "source": [
    "## Question 2\n",
    "For this question, calculate the win/loss ratio's correlation with the population of the city it is in for the **NBA** using **2018** data."
   ]
  },
  {
   "cell_type": "code",
   "execution_count": 100,
   "metadata": {
    "deletable": false,
    "nbgrader": {
     "checksum": "9394222aafc8ccab0a228098ba0d6010",
     "grade": false,
     "grade_id": "cell-5a5f21279e3d3572",
     "locked": false,
     "schema_version": 1,
     "solution": true
    }
   },
   "outputs": [
    {
     "name": "stdout",
     "output_type": "stream",
     "text": [
      "        Metropolitan area          team  Population\n",
      "0           New York City        Knicks    20153634\n",
      "1             Los Angeles        Lakers    13310447\n",
      "2  San Francisco Bay Area      Warriors     6657982\n",
      "3                 Chicago         Bulls     9512999\n",
      "4       Dallas–Fort Worth     Mavericks     7233323\n",
      "5        Washington, D.C.       Wizards     6131977\n",
      "6            Philadelphia         76ers     6070500\n",
      "7                  Boston       Celtics     4794447\n",
      "8  Minneapolis–Saint Paul  Timberwolves     3551036\n",
      "9                  Denver       Nuggets     2853077\n",
      "        team   W/L%\n",
      "0    Raptors  0.720\n",
      "1    Celtics  0.671\n",
      "2      76ers  0.634\n",
      "3  Cavaliers  0.610\n",
      "4     Pacers  0.585\n",
      "5       Heat  0.537\n",
      "6      Bucks  0.537\n",
      "7    Wizards  0.524\n",
      "8    Pistons  0.476\n",
      "9    Hornets  0.439\n",
      "                    W/L%  Population\n",
      "Metropolitan area                   \n",
      "Atlanta            0.293     5789700\n",
      "Boston             0.671     4794447\n",
      "Charlotte          0.439     2474314\n",
      "Chicago            0.329     9512999\n",
      "Cleveland          0.610     2055612\n",
      "Dallas–Fort Worth  0.293     7233323\n",
      "Denver             0.561     2853077\n",
      "Detroit            0.476     4297617\n",
      "Houston            0.793     6772470\n",
      "Indianapolis       0.585     2004230\n"
     ]
    },
    {
     "data": {
      "text/plain": [
       "-0.1763635064218294"
      ]
     },
     "execution_count": 100,
     "metadata": {},
     "output_type": "execute_result"
    }
   ],
   "source": [
    "import pandas as pd\n",
    "import numpy as np\n",
    "import scipy.stats as stats\n",
    "import re\n",
    "\n",
    "cities = pd.read_html(\"assets/wikipedia_data.html\")[1]\n",
    "cities = cities.iloc[:-1, [0, 3, 5, 6, 7, 8]]\n",
    "cities.rename(columns={\"Population (2016 est.)[8]\": \"Population\"},\n",
    "              inplace=True)\n",
    "cities['NFL'] = cities['NFL'].str.replace(r\"\\[.*\\]\", \"\")\n",
    "cities['MLB'] = cities['MLB'].str.replace(r\"\\[.*\\]\", \"\")\n",
    "cities['NBA'] = cities['NBA'].str.replace(r\"\\[.*\\]\", \"\")\n",
    "cities['NHL'] = cities['NHL'].str.replace(r\"\\[.*\\]\", \"\")\n",
    "\n",
    "Big4='NBA'\n",
    "\n",
    "def nba_correlation():\n",
    "    # YOUR CODE HERE\n",
    "    # raise NotImplementedError()\n",
    "    \n",
    "    team = cities[Big4].str.extract('([A-Z]{0,2}[a-z0-9]*\\ [A-Z]{0,2}[a-z0-9]*|[A-Z]{0,2}[a-z0-9]*)([A-Z]{0,2}[a-z0-9]*\\ [A-Z]{0,2}[a-z0-9]*|[A-Z]{0,2}[a-z0-9]*)([A-Z]{0,2}[a-z0-9]*\\ [A-Z]{0,2}[a-z0-9]*|[A-Z]{0,2}[a-z0-9]*)')\n",
    "    team['Metropolitan area']=cities['Metropolitan area']\n",
    "    team = pd.melt(team, id_vars=['Metropolitan area']).drop(columns=['variable']).replace(\"\",np.nan).replace(\"—\",np.nan)\n",
    "    team = team.dropna().reset_index().rename(columns = {\"value\":\"team\"})\n",
    "    team = pd.merge(team,cities,how='left',on = 'Metropolitan area').iloc[:,1:4]\n",
    "    team = team.astype({'Metropolitan area': str, 'team': str, 'Population': int})\n",
    "    team['team']=team['team'].str.replace('[\\w.]*\\ ','')\n",
    "    \n",
    "    print(team.head(10))\n",
    "    \n",
    "    nba_df=pd.read_csv(\"assets/\"+str.lower(Big4)+\".csv\")\n",
    "    nba_df = nba_df[nba_df['year'] == 2018]\n",
    "    nba_df['team'] = nba_df['team'].str.replace(r'[\\*]',\"\")\n",
    "    nba_df['team'] = nba_df['team'].str.replace(r'\\(\\d*\\)',\"\")\n",
    "    nba_df['team'] = nba_df['team'].str.replace(r'[\\xa0]',\"\")\n",
    "    nba_df = nba_df[['team','W/L%']]\n",
    "    nba_df['team'] = nba_df['team'].str.replace('[\\w.]* ','')\n",
    "    nba_df = nba_df.astype({'team': str,'W/L%': float})\n",
    "\n",
    "    print(nba_df.head(10))\n",
    "    merge=pd.merge(team,nba_df,'outer', on = 'team')\n",
    "    merge=merge.groupby('Metropolitan area').agg({'W/L%': np.nanmean, 'Population': np.nanmean})\n",
    "    \n",
    "    print(merge.head(10))\n",
    "    population_by_region = merge['Population'] # pass in metropolitan area population from cities\n",
    "    win_loss_by_region = merge['W/L%'] # pass in win/loss ratio from _df in the same order as cities[\"Metropolitan area\"]   \n",
    "\n",
    "    assert len(population_by_region) == len(\n",
    "        win_loss_by_region), \"Q1: Your lists must be the same length\"\n",
    "    assert len(population_by_region\n",
    "               ) == 28, \"Q1: There should be 28 teams being analysed for NHL\"\n",
    "\n",
    "    return stats.pearsonr(population_by_region, win_loss_by_region)[0]\n",
    "\n",
    "nba_correlation()"
   ]
  },
  {
   "cell_type": "code",
   "execution_count": null,
   "metadata": {
    "deletable": false,
    "editable": false,
    "nbgrader": {
     "checksum": "bbdeb8eb22f525a34c10dc8798324e42",
     "grade": true,
     "grade_id": "cell-e573b2b4a282b470",
     "locked": true,
     "points": 20,
     "schema_version": 1,
     "solution": false
    }
   },
   "outputs": [],
   "source": []
  },
  {
   "cell_type": "markdown",
   "metadata": {
    "deletable": false,
    "editable": false,
    "nbgrader": {
     "checksum": "1a1a5809f675ca033086422007cd73bd",
     "grade": false,
     "grade_id": "cell-96e15e4335df78f4",
     "locked": true,
     "schema_version": 1,
     "solution": false
    }
   },
   "source": [
    "## Question 3\n",
    "For this question, calculate the win/loss ratio's correlation with the population of the city it is in for the **MLB** using **2018** data."
   ]
  },
  {
   "cell_type": "code",
   "execution_count": 85,
   "metadata": {
    "deletable": false,
    "nbgrader": {
     "checksum": "27e8c0da6c9fa0dffc10488314335b6c",
     "grade": false,
     "grade_id": "cell-33b00fc3f3467b0c",
     "locked": false,
     "schema_version": 1,
     "solution": true
    }
   },
   "outputs": [
    {
     "data": {
      "text/plain": [
       "0.15003737475409495"
      ]
     },
     "execution_count": 85,
     "metadata": {},
     "output_type": "execute_result"
    }
   ],
   "source": [
    "import pandas as pd\n",
    "import numpy as np\n",
    "import scipy.stats as stats\n",
    "import re\n",
    "\n",
    "cities = pd.read_html(\"assets/wikipedia_data.html\")[1]\n",
    "cities = cities.iloc[:-1, [0, 3, 5, 6, 7, 8]]\n",
    "cities.rename(columns={\"Population (2016 est.)[8]\": \"Population\"},\n",
    "              inplace=True)\n",
    "cities['NFL'] = cities['NFL'].str.replace(r\"\\[.*\\]\", \"\")\n",
    "cities['MLB'] = cities['MLB'].str.replace(r\"\\[.*\\]\", \"\")\n",
    "cities['NBA'] = cities['NBA'].str.replace(r\"\\[.*\\]\", \"\")\n",
    "cities['NHL'] = cities['NHL'].str.replace(r\"\\[.*\\]\", \"\")\n",
    "\n",
    "Big4='MLB'\n",
    "\n",
    "def mlb_correlation(): \n",
    "    \n",
    "    team = cities[Big4].str.extract('([A-Z]{0,2}[a-z0-9]*\\ [A-Z]{0,2}[a-z0-9]*|[A-Z]{0,2}[a-z0-9]*)([A-Z]{0,2}[a-z0-9]*\\ [A-Z]{0,2}[a-z0-9]*|[A-Z]{0,2}[a-z0-9]*)([A-Z]{0,2}[a-z0-9]*\\ [A-Z]{0,2}[a-z0-9]*|[A-Z]{0,2}[a-z0-9]*)')\n",
    "    team['Metropolitan area']=cities['Metropolitan area']\n",
    "    team = pd.melt(team, id_vars=['Metropolitan area']).drop(columns=['variable']).replace(\"\",np.nan).replace(\"—\",np.nan).dropna().reset_index().rename(columns = {\"value\":\"team\"})\n",
    "    team=pd.merge(team,cities,how='left',on = 'Metropolitan area').iloc[:,1:4]\n",
    "    team = team.astype({'Metropolitan area': str, 'team': str, 'Population': int})\n",
    "    team['team']=team['team'].str.replace('\\ Sox','Sox')\n",
    "    team['team']=team['team'].str.replace('[\\w.]*\\ ','')\n",
    "\n",
    "    mlb_df=pd.read_csv(\"assets/\"+str.lower(Big4)+\".csv\")\n",
    "    mlb_df = mlb_df[mlb_df['year'] == 2018]\n",
    "    mlb_df['team'] = mlb_df['team'].str.replace(r'[\\*]',\"\")\n",
    "    mlb_df['team'] = mlb_df['team'].str.replace(r'\\(\\d*\\)',\"\")\n",
    "    mlb_df['team'] = mlb_df['team'].str.replace(r'[\\xa0]',\"\")\n",
    "    mlb_df = mlb_df[['team','W-L%']]\n",
    "    mlb_df.rename(columns={\"W-L%\": \"W/L%\"},inplace=True)\n",
    "    mlb_df['team']=mlb_df['team'].str.replace('\\ Sox','Sox')\n",
    "    mlb_df['team'] = mlb_df['team'].str.replace('[\\w.]* ','')\n",
    "    mlb_df = mlb_df.astype({'team': str,'W/L%': float})\n",
    "    \n",
    "    merge=pd.merge(team,mlb_df,'outer', on = 'team')\n",
    "    merge=merge.groupby('Metropolitan area').agg({'W/L%': np.nanmean, 'Population': np.nanmean})\n",
    "    \n",
    "    population_by_region = merge['Population'] # pass in metropolitan area population from cities\n",
    "    win_loss_by_region = merge['W/L%'] # pass in win/loss ratio from _df in the same order as cities[\"Metropolitan area\"]   \n",
    "\n",
    "    assert len(population_by_region) == len(win_loss_by_region), \"Q3: Your lists must be the same length\"\n",
    "    assert len(population_by_region) == 26, \"Q3: There should be 26 teams being analysed for MLB\"\n",
    "    \n",
    "    return stats.pearsonr(population_by_region, win_loss_by_region)[0]\n",
    "mlb_correlation()"
   ]
  },
  {
   "cell_type": "code",
   "execution_count": null,
   "metadata": {
    "deletable": false,
    "editable": false,
    "nbgrader": {
     "checksum": "cda33b094ba19ccc37a481e0dd29e0bc",
     "grade": true,
     "grade_id": "cell-764d4476f425c5a2",
     "locked": true,
     "points": 20,
     "schema_version": 1,
     "solution": false
    }
   },
   "outputs": [],
   "source": []
  },
  {
   "cell_type": "markdown",
   "metadata": {
    "deletable": false,
    "editable": false,
    "nbgrader": {
     "checksum": "6977a6da9ed6d8b7a0b7e37bbeda709b",
     "grade": false,
     "grade_id": "cell-793df6c04dfb126e",
     "locked": true,
     "schema_version": 1,
     "solution": false
    }
   },
   "source": [
    "## Question 4\n",
    "For this question, calculate the win/loss ratio's correlation with the population of the city it is in for the **NFL** using **2018** data."
   ]
  },
  {
   "cell_type": "code",
   "execution_count": 88,
   "metadata": {
    "deletable": false,
    "nbgrader": {
     "checksum": "c4914ad1e119278ec2bd567c52640b66",
     "grade": false,
     "grade_id": "cell-8ccebc209aeec8d9",
     "locked": false,
     "schema_version": 1,
     "solution": true
    }
   },
   "outputs": [
    {
     "data": {
      "text/plain": [
       "0.004282141436393022"
      ]
     },
     "execution_count": 88,
     "metadata": {},
     "output_type": "execute_result"
    }
   ],
   "source": [
    "import pandas as pd\n",
    "import numpy as np\n",
    "import scipy.stats as stats\n",
    "import re\n",
    "\n",
    "cities = pd.read_html(\"assets/wikipedia_data.html\")[1]\n",
    "cities = cities.iloc[:-1, [0, 3, 5, 6, 7, 8]]\n",
    "cities.rename(columns={\"Population (2016 est.)[8]\": \"Population\"},\n",
    "              inplace=True)\n",
    "cities['NFL'] = cities['NFL'].str.replace(r\"\\[.*\\]\", \"\")\n",
    "cities['MLB'] = cities['MLB'].str.replace(r\"\\[.*\\]\", \"\")\n",
    "cities['NBA'] = cities['NBA'].str.replace(r\"\\[.*\\]\", \"\")\n",
    "cities['NHL'] = cities['NHL'].str.replace(r\"\\[.*\\]\", \"\")\n",
    "\n",
    "Big4='NFL'\n",
    "\n",
    "def nfl_correlation(): \n",
    "    team = cities[Big4].str.extract('([A-Z]{0,2}[a-z0-9]*\\ [A-Z]{0,2}[a-z0-9]*|[A-Z]{0,2}[a-z0-9]*)([A-Z]{0,2}[a-z0-9]*\\ [A-Z]{0,2}[a-z0-9]*|[A-Z]{0,2}[a-z0-9]*)([A-Z]{0,2}[a-z0-9]*\\ [A-Z]{0,2}[a-z0-9]*|[A-Z]{0,2}[a-z0-9]*)')\n",
    "    team['Metropolitan area']=cities['Metropolitan area']\n",
    "    team = pd.melt(team, id_vars=['Metropolitan area']).drop(columns=['variable']).replace(\"\",np.nan).replace(\"—\",np.nan).dropna().reset_index().rename(columns = {\"value\":\"team\"})\n",
    "    team=pd.merge(team,cities,how='left',on = 'Metropolitan area').iloc[:,1:4]\n",
    "    team = team.astype({'Metropolitan area': str, 'team': str, 'Population': int})\n",
    "    team['team']=team['team'].str.replace('[\\w.]*\\ ','')\n",
    "    \n",
    "    nfl_df=pd.read_csv(\"assets/\"+str.lower(Big4)+\".csv\")\n",
    "    nfl_df = nfl_df[nfl_df['year'] == 2018]\n",
    "    nfl_df['team'] = nfl_df['team'].str.replace(r'[\\*]',\"\")\n",
    "    nfl_df['team'] = nfl_df['team'].str.replace(r'\\(\\d*\\)',\"\")\n",
    "    nfl_df['team'] = nfl_df['team'].str.replace(r'[\\xa0]',\"\")\n",
    "    nfl_df = nfl_df[['team','W-L%']]\n",
    "    nfl_df.rename(columns={\"W-L%\": \"W/L%\"},inplace=True)\n",
    "    dropList=[]\n",
    "    for i in range(nfl_df.shape[0]):\n",
    "        row=nfl_df.iloc[i]\n",
    "        if row['team']==row['W/L%']:\n",
    "            dropList.append(i)\n",
    "    nfl_df=nfl_df.drop(dropList)\n",
    "\n",
    "    nfl_df['team'] = nfl_df['team'].str.replace('[\\w.]* ','')\n",
    "    nfl_df['team'] = nfl_df['team'].str.replace('+','')\n",
    "    nfl_df = nfl_df.astype({'team': str,'W/L%': float})\n",
    "    \n",
    "    merge=pd.merge(team,nfl_df,'outer', on = 'team')\n",
    "    merge=merge.groupby('Metropolitan area').agg({'W/L%': np.nanmean, 'Population': np.nanmean})\n",
    "\n",
    "    population_by_region = merge['Population'] # pass in metropolitan area population from cities\n",
    "    win_loss_by_region = merge['W/L%'] # pass in win/loss ratio from _df in the same order as cities[\"Metropolitan area\"]   \n",
    "    \n",
    "    assert len(population_by_region) == len(win_loss_by_region), \"Q4: Your lists must be the same length\"\n",
    "    assert len(population_by_region) == 29, \"Q4: There should be 29 teams being analysed for NFL\"\n",
    "\n",
    "    return stats.pearsonr(population_by_region, win_loss_by_region)[0]\n",
    "nfl_correlation()"
   ]
  },
  {
   "cell_type": "code",
   "execution_count": null,
   "metadata": {
    "deletable": false,
    "editable": false,
    "nbgrader": {
     "checksum": "e9415d6399aa49e3a1a60813afdefa3b",
     "grade": true,
     "grade_id": "cell-de7b148b9554dbda",
     "locked": true,
     "points": 20,
     "schema_version": 1,
     "solution": false
    }
   },
   "outputs": [],
   "source": []
  },
  {
   "cell_type": "markdown",
   "metadata": {
    "deletable": false,
    "editable": false,
    "nbgrader": {
     "checksum": "b02d5cd3273f561e4ae939bb2a41740c",
     "grade": false,
     "grade_id": "cell-97b49d8639e908c4",
     "locked": true,
     "schema_version": 1,
     "solution": false
    }
   },
   "source": [
    "## Question 5\n",
    "In this question I would like you to explore the hypothesis that **given that an area has two sports teams in different sports, those teams will perform the same within their respective sports**. How I would like to see this explored is with a series of paired t-tests (so use [`ttest_rel`](https://docs.scipy.org/doc/scipy/reference/generated/scipy.stats.ttest_rel.html)) between all pairs of sports. Are there any sports where we can reject the null hypothesis? Again, average values where a sport has multiple teams in one region. Remember, you will only be including, for each sport, cities which have teams engaged in that sport, drop others as appropriate. This question is worth 20% of the grade for this assignment."
   ]
  },
  {
   "cell_type": "code",
   "execution_count": 105,
   "metadata": {
    "deletable": false,
    "nbgrader": {
     "checksum": "92b8bedc9c49fca1ef724ab5ce526db5",
     "grade": false,
     "grade_id": "cell-92f25f44b8d1179f",
     "locked": false,
     "schema_version": 1,
     "solution": true
    }
   },
   "outputs": [
    {
     "data": {
      "text/html": [
       "<div>\n",
       "<style scoped>\n",
       "    .dataframe tbody tr th:only-of-type {\n",
       "        vertical-align: middle;\n",
       "    }\n",
       "\n",
       "    .dataframe tbody tr th {\n",
       "        vertical-align: top;\n",
       "    }\n",
       "\n",
       "    .dataframe thead th {\n",
       "        text-align: right;\n",
       "    }\n",
       "</style>\n",
       "<table border=\"1\" class=\"dataframe\">\n",
       "  <thead>\n",
       "    <tr style=\"text-align: right;\">\n",
       "      <th></th>\n",
       "      <th>NFL</th>\n",
       "      <th>NBA</th>\n",
       "      <th>NHL</th>\n",
       "      <th>MLB</th>\n",
       "    </tr>\n",
       "  </thead>\n",
       "  <tbody>\n",
       "    <tr>\n",
       "      <th>NFL</th>\n",
       "      <td>NaN</td>\n",
       "      <td>0.937509</td>\n",
       "      <td>0.030318</td>\n",
       "      <td>0.803459</td>\n",
       "    </tr>\n",
       "    <tr>\n",
       "      <th>NBA</th>\n",
       "      <td>0.937509</td>\n",
       "      <td>NaN</td>\n",
       "      <td>0.022386</td>\n",
       "      <td>0.949566</td>\n",
       "    </tr>\n",
       "    <tr>\n",
       "      <th>NHL</th>\n",
       "      <td>0.030318</td>\n",
       "      <td>0.022386</td>\n",
       "      <td>NaN</td>\n",
       "      <td>0.000703</td>\n",
       "    </tr>\n",
       "    <tr>\n",
       "      <th>MLB</th>\n",
       "      <td>0.803459</td>\n",
       "      <td>0.949566</td>\n",
       "      <td>0.000703</td>\n",
       "      <td>NaN</td>\n",
       "    </tr>\n",
       "  </tbody>\n",
       "</table>\n",
       "</div>"
      ],
      "text/plain": [
       "          NFL       NBA       NHL       MLB\n",
       "NFL       NaN  0.937509  0.030318  0.803459\n",
       "NBA  0.937509       NaN  0.022386  0.949566\n",
       "NHL  0.030318  0.022386       NaN  0.000703\n",
       "MLB  0.803459  0.949566  0.000703       NaN"
      ]
     },
     "execution_count": 105,
     "metadata": {},
     "output_type": "execute_result"
    }
   ],
   "source": [
    "import pandas as pd\n",
    "import numpy as np\n",
    "import scipy.stats as stats\n",
    "import re\n",
    "\n",
    "cities = pd.read_html(\"assets/wikipedia_data.html\")[1]\n",
    "cities = cities.iloc[:-1, [0, 3, 5, 6, 7, 8]]\n",
    "cities.rename(columns={\"Population (2016 est.)[8]\": \"Population\"},\n",
    "              inplace=True)\n",
    "cities['NFL'] = cities['NFL'].str.replace(r\"\\[.*\\]\", \"\")\n",
    "cities['MLB'] = cities['MLB'].str.replace(r\"\\[.*\\]\", \"\")\n",
    "cities['NBA'] = cities['NBA'].str.replace(r\"\\[.*\\]\", \"\")\n",
    "cities['NHL'] = cities['NHL'].str.replace(r\"\\[.*\\]\", \"\")\n",
    "\n",
    "\n",
    "def nhl_df():\n",
    "    Big4='NHL'\n",
    "    team = cities[Big4].str.extract('([A-Z]{0,2}[a-z0-9]*\\ [A-Z]{0,2}[a-z0-9]*|[A-Z]{0,2}[a-z0-9]*)([A-Z]{0,2}[a-z0-9]*\\ [A-Z]{0,2}[a-z0-9]*|[A-Z]{0,2}[a-z0-9]*)([A-Z]{0,2}[a-z0-9]*\\ [A-Z]{0,2}[a-z0-9]*|[A-Z]{0,2}[a-z0-9]*)')\n",
    "    team['Metropolitan area']=cities['Metropolitan area']\n",
    "    team = pd.melt(team, id_vars=['Metropolitan area']).drop(columns=['variable']).replace(\"\",np.nan).replace(\"—\",np.nan).dropna().reset_index().rename(columns = {\"value\":\"team\"})\n",
    "    team=pd.merge(team,cities,how='left',on = 'Metropolitan area').iloc[:,1:4]\n",
    "    team = team.astype({'Metropolitan area': str, 'team': str, 'Population': int})\n",
    "    team['team']=team['team'].str.replace('[\\w.]*\\ ','')\n",
    "    \n",
    "    _df=pd.read_csv(\"assets/\"+str.lower(Big4)+\".csv\")\n",
    "    _df = _df[_df['year'] == 2018]\n",
    "    _df['team'] = _df['team'].str.replace(r'\\*',\"\")\n",
    "    _df = _df[['team','W','L']]\n",
    "\n",
    "    dropList=[]\n",
    "    for i in range(_df.shape[0]):\n",
    "        row=_df.iloc[i]\n",
    "        if row['team']==row['W'] and row['L']==row['W']:\n",
    "            dropList.append(i)\n",
    "    _df=_df.drop(dropList)\n",
    "\n",
    "    _df['team'] = _df['team'].str.replace('[\\w.]* ','')\n",
    "    _df = _df.astype({'team': str,'W': int, 'L': int})\n",
    "    _df['W/L%'] = _df['W']/(_df['W']+_df['L'])\n",
    "    \n",
    "    merge=pd.merge(team,_df,'inner', on = 'team')\n",
    "    merge=merge.groupby('Metropolitan area').agg({'W/L%': np.nanmean, 'Population': np.nanmean})  \n",
    "\n",
    "    return merge[['W/L%']]\n",
    "\n",
    "\n",
    "\n",
    "def nba_df():\n",
    "    Big4='NBA'\n",
    "    team = cities[Big4].str.extract('([A-Z]{0,2}[a-z0-9]*\\ [A-Z]{0,2}[a-z0-9]*|[A-Z]{0,2}[a-z0-9]*)([A-Z]{0,2}[a-z0-9]*\\ [A-Z]{0,2}[a-z0-9]*|[A-Z]{0,2}[a-z0-9]*)([A-Z]{0,2}[a-z0-9]*\\ [A-Z]{0,2}[a-z0-9]*|[A-Z]{0,2}[a-z0-9]*)')\n",
    "    team['Metropolitan area']=cities['Metropolitan area']\n",
    "    team = pd.melt(team, id_vars=['Metropolitan area']).drop(columns=['variable']).replace(\"\",np.nan).replace(\"—\",np.nan).dropna().reset_index().rename(columns = {\"value\":\"team\"})\n",
    "    team=pd.merge(team,cities,how='left',on = 'Metropolitan area').iloc[:,1:4]\n",
    "    team = team.astype({'Metropolitan area': str, 'team': str, 'Population': int})\n",
    "    team['team']=team['team'].str.replace('[\\w.]*\\ ','')\n",
    "\n",
    "    _df=pd.read_csv(\"assets/\"+str.lower(Big4)+\".csv\")\n",
    "    _df = _df[_df['year'] == 2018]\n",
    "    _df['team'] = _df['team'].str.replace(r'[\\*]',\"\")\n",
    "    _df['team'] = _df['team'].str.replace(r'\\(\\d*\\)',\"\")\n",
    "    _df['team'] = _df['team'].str.replace(r'[\\xa0]',\"\")\n",
    "    _df = _df[['team','W/L%']]\n",
    "    _df['team'] = _df['team'].str.replace('[\\w.]* ','')\n",
    "    _df = _df.astype({'team': str,'W/L%': float})\n",
    "    \n",
    "    merge=pd.merge(team,_df,'outer', on = 'team')\n",
    "    merge=merge.groupby('Metropolitan area').agg({'W/L%': np.nanmean, 'Population': np.nanmean})\n",
    "    return merge[['W/L%']]\n",
    "\n",
    "\n",
    "\n",
    "def mlb_df(): \n",
    "    Big4='MLB'\n",
    "    team = cities[Big4].str.extract('([A-Z]{0,2}[a-z0-9]*\\ [A-Z]{0,2}[a-z0-9]*|[A-Z]{0,2}[a-z0-9]*)([A-Z]{0,2}[a-z0-9]*\\ [A-Z]{0,2}[a-z0-9]*|[A-Z]{0,2}[a-z0-9]*)([A-Z]{0,2}[a-z0-9]*\\ [A-Z]{0,2}[a-z0-9]*|[A-Z]{0,2}[a-z0-9]*)')\n",
    "    team['Metropolitan area']=cities['Metropolitan area']\n",
    "    team = pd.melt(team, id_vars=['Metropolitan area']).drop(columns=['variable']).replace(\"\",np.nan).replace(\"—\",np.nan).dropna().reset_index().rename(columns = {\"value\":\"team\"})\n",
    "    team=pd.merge(team,cities,how='left',on = 'Metropolitan area').iloc[:,1:4]\n",
    "    team = team.astype({'Metropolitan area': str, 'team': str, 'Population': int})\n",
    "    team['team']=team['team'].str.replace('\\ Sox','Sox')\n",
    "    team['team']=team['team'].str.replace('[\\w.]*\\ ','')\n",
    "\n",
    "    _df=pd.read_csv(\"assets/\"+str.lower(Big4)+\".csv\")\n",
    "    _df = _df[_df['year'] == 2018]\n",
    "    _df['team'] = _df['team'].str.replace(r'[\\*]',\"\")\n",
    "    _df['team'] = _df['team'].str.replace(r'\\(\\d*\\)',\"\")\n",
    "    _df['team'] = _df['team'].str.replace(r'[\\xa0]',\"\")\n",
    "    _df = _df[['team','W-L%']]\n",
    "    _df.rename(columns={\"W-L%\": \"W/L%\"},inplace=True)\n",
    "    _df['team']=_df['team'].str.replace('\\ Sox','Sox')\n",
    "    _df['team'] = _df['team'].str.replace('[\\w.]* ','')\n",
    "    _df = _df.astype({'team': str,'W/L%': float})\n",
    "    \n",
    "    merge=pd.merge(team,_df,'outer', on = 'team')\n",
    "    merge=merge.groupby('Metropolitan area').agg({'W/L%': np.nanmean, 'Population': np.nanmean})\n",
    "\n",
    "    return merge[['W/L%']]\n",
    "\n",
    "def nfl_df(): \n",
    "    Big4='NFL'\n",
    "    team = cities[Big4].str.extract('([A-Z]{0,2}[a-z0-9]*\\ [A-Z]{0,2}[a-z0-9]*|[A-Z]{0,2}[a-z0-9]*)([A-Z]{0,2}[a-z0-9]*\\ [A-Z]{0,2}[a-z0-9]*|[A-Z]{0,2}[a-z0-9]*)([A-Z]{0,2}[a-z0-9]*\\ [A-Z]{0,2}[a-z0-9]*|[A-Z]{0,2}[a-z0-9]*)')\n",
    "    team['Metropolitan area']=cities['Metropolitan area']\n",
    "    team = pd.melt(team, id_vars=['Metropolitan area']).drop(columns=['variable']).replace(\"\",np.nan).replace(\"—\",np.nan).dropna().reset_index().rename(columns = {\"value\":\"team\"})\n",
    "    team=pd.merge(team,cities,how='left',on = 'Metropolitan area').iloc[:,1:4]\n",
    "    team = team.astype({'Metropolitan area': str, 'team': str, 'Population': int})\n",
    "    team['team']=team['team'].str.replace('[\\w.]*\\ ','')\n",
    "    \n",
    "    _df=pd.read_csv(\"assets/\"+str.lower(Big4)+\".csv\")\n",
    "    _df = _df[_df['year'] == 2018]\n",
    "    _df['team'] = _df['team'].str.replace(r'[\\*]',\"\")\n",
    "    _df['team'] = _df['team'].str.replace(r'\\(\\d*\\)',\"\")\n",
    "    _df['team'] = _df['team'].str.replace(r'[\\xa0]',\"\")\n",
    "    _df = _df[['team','W-L%']]\n",
    "    _df.rename(columns={\"W-L%\": \"W/L%\"},inplace=True)\n",
    "    dropList=[]\n",
    "    for i in range(_df.shape[0]):\n",
    "        row=_df.iloc[i]\n",
    "        if row['team']==row['W/L%']:\n",
    "            dropList.append(i)\n",
    "    _df=_df.drop(dropList)\n",
    "\n",
    "    _df['team'] = _df['team'].str.replace('[\\w.]* ','')\n",
    "    _df['team'] = _df['team'].str.replace('+','')\n",
    "    _df = _df.astype({'team': str,'W/L%': float})\n",
    "    \n",
    "    merge=pd.merge(team,_df,'outer', on = 'team')\n",
    "    merge=merge.groupby('Metropolitan area').agg({'W/L%': np.nanmean, 'Population': np.nanmean})\n",
    "\n",
    "    return merge[['W/L%']]\n",
    "\n",
    "def create_df(sport):\n",
    "    if sport =='NFL':\n",
    "        return nfl_df()\n",
    "    elif sport =='NBA':\n",
    "        return nba_df()\n",
    "    elif sport =='NHL':\n",
    "        return nhl_df()\n",
    "    elif sport =='MLB':\n",
    "        return mlb_df()\n",
    "    else:\n",
    "        print(\"ERROR with intput!\")\n",
    "\n",
    "\n",
    "def sports_team_performance():\n",
    "    # Note: p_values is a full dataframe, so df.loc[\"NFL\",\"NBA\"] should be the same as df.loc[\"NBA\",\"NFL\"] and\n",
    "    # df.loc[\"NFL\",\"NFL\"] should return np.nan\n",
    "    sports = ['NFL', 'NBA', 'NHL', 'MLB']\n",
    "    p_values = pd.DataFrame({k:np.nan for k in sports}, index=sports)\n",
    "    \n",
    "    for i in sports:\n",
    "        for j in sports:\n",
    "            if i !=j :\n",
    "                merge=pd.merge(create_df(i),create_df(j),'inner', on = ['Metropolitan area'])\n",
    "                p_values.loc[i, j]=stats.ttest_rel(merge['W/L%_x'],merge['W/L%_y'])[1]\n",
    "\n",
    "    \n",
    "    assert abs(p_values.loc[\"NBA\", \"NHL\"] - 0.02) <= 1e-2, \"The NBA-NHL p-value should be around 0.02\"\n",
    "    assert abs(p_values.loc[\"MLB\", \"NFL\"] - 0.80) <= 1e-2, \"The MLB-NFL p-value should be around 0.80\"\n",
    "    return p_values\n",
    "sports_team_performance()"
   ]
  },
  {
   "cell_type": "code",
   "execution_count": null,
   "metadata": {
    "deletable": false,
    "editable": false,
    "nbgrader": {
     "checksum": "2a596ab421a45cc01168d10e8fbb8f89",
     "grade": true,
     "grade_id": "cell-fb4b9cb5ff4570a6",
     "locked": true,
     "points": 20,
     "schema_version": 1,
     "solution": false
    }
   },
   "outputs": [],
   "source": []
  }
 ],
 "metadata": {
  "coursera": {
   "schema_names": [
    "mooc_adswpy_1_v2_assignment4"
   ]
  },
  "kernelspec": {
   "display_name": "Python 3",
   "language": "python",
   "name": "python3"
  },
  "language_info": {
   "codemirror_mode": {
    "name": "ipython",
    "version": 3
   },
   "file_extension": ".py",
   "mimetype": "text/x-python",
   "name": "python",
   "nbconvert_exporter": "python",
   "pygments_lexer": "ipython3",
   "version": "3.8.5"
  }
 },
 "nbformat": 4,
 "nbformat_minor": 1
}
