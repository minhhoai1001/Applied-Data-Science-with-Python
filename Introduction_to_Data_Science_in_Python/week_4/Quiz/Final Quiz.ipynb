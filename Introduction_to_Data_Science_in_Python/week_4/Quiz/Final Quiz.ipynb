{
 "cells": [
  {
   "cell_type": "markdown",
   "metadata": {},
   "source": [
    "# Final Quiz"
   ]
  },
  {
   "cell_type": "markdown",
   "metadata": {},
   "source": [
    "## Question 1\n",
    "Consider the given NumPy arrays **a** and **b**. What will be the value of **c** after the following code is executed?"
   ]
  },
  {
   "cell_type": "code",
   "execution_count": 31,
   "metadata": {},
   "outputs": [
    {
     "name": "stdout",
     "output_type": "stream",
     "text": [
      "[0 1 2 3 4 5 6 7]\n",
      "[40 40]\n",
      "46\n"
     ]
    }
   ],
   "source": [
    "import numpy as np\n",
    "\n",
    "a = np.arange(8)\n",
    "print(a)\n",
    "b = a[4:6]\n",
    "b[:] = 40\n",
    "print(b)\n",
    "c = a[4] + a[6]\n",
    "print(c)"
   ]
  },
  {
   "cell_type": "markdown",
   "metadata": {},
   "source": [
    "## Question 2\n",
    "Given the string **s** as shown below, which of the following expressions will be **True**?"
   ]
  },
  {
   "cell_type": "code",
   "execution_count": 8,
   "metadata": {},
   "outputs": [
    {
     "name": "stdout",
     "output_type": "stream",
     "text": [
      "False\n",
      "True\n",
      "False\n",
      "False\n"
     ]
    }
   ],
   "source": [
    "import re\n",
    "s = 'ABCAC'\n",
    "print(len(re.split('A', s)) == 2)\n",
    "print(bool(re.match('A', s)) == True)\n",
    "print(re.match('A', s) == True)\n",
    "print(re.match('A', s) == True)"
   ]
  },
  {
   "cell_type": "markdown",
   "metadata": {},
   "source": [
    "### Question 3\n",
    "Consider a string s. We want to find all characters (other than A) which are followed by triple A, i.e., have AAA to the right. We don’t want to include the triple A in the output and just want the character immediately preceding AAA . Complete the code given below that would output the required result."
   ]
  },
  {
   "cell_type": "code",
   "execution_count": 21,
   "metadata": {},
   "outputs": [
    {
     "data": {
      "text/plain": [
       "['C', 'F', 'B']"
      ]
     },
     "execution_count": 21,
     "metadata": {},
     "output_type": "execute_result"
    }
   ],
   "source": [
    "def result():\n",
    "    s = 'ACAABAACAAABACDBADDDFSDDDFFSSSASDAFAAACBAAAFASD'\n",
    "\n",
    "    result = []\n",
    "    # compete the pattern below\n",
    "    pattern = '(\\w)(?=[A]{3})'\n",
    "    for item in re.finditer(pattern, s):\n",
    "      # identify the group number below.\n",
    "      result.append(item.group())\n",
    "      \n",
    "    return result\n",
    "\n",
    "result()"
   ]
  },
  {
   "cell_type": "markdown",
   "metadata": {},
   "source": [
    "## Question 4\n",
    "\n",
    "Consider the following 4 expressions regarding the above pandas Series `df`. All of them have the same value except one expression. Can you identify which one it is?"
   ]
  },
  {
   "cell_type": "code",
   "execution_count": 32,
   "metadata": {},
   "outputs": [
    {
     "name": "stdout",
     "output_type": "stream",
     "text": [
      "4\n",
      "d\n",
      "4\n",
      "4\n"
     ]
    }
   ],
   "source": [
    "import pandas as pd\n",
    "list = {\"d\":4, \"b\":7, 'a':-5, \"c\":3}\n",
    "df = pd.Series(list)\n",
    "print(df.iloc[0])\n",
    "print(df.index[0])\n",
    "print(df[0])\n",
    "print(df['d'])"
   ]
  },
  {
   "cell_type": "markdown",
   "metadata": {},
   "source": [
    "## Question 5\n",
    "\n",
    "Consider the two pandas Series objects shown above, representing the no. of items of different yogurt flavors that were sold in a day from two different stores, s1 and s2. Which of the following statements is True regarding the Series s3 defined below?"
   ]
  },
  {
   "cell_type": "code",
   "execution_count": 36,
   "metadata": {},
   "outputs": [
    {
     "name": "stdout",
     "output_type": "stream",
     "text": [
      "False\n",
      "True\n",
      "False\n",
      "False\n"
     ]
    },
    {
     "data": {
      "text/plain": [
       "Banana         NaN\n",
       "Blueberry      NaN\n",
       "Mango         40.0\n",
       "Plain          NaN\n",
       "Strawberry    40.0\n",
       "Vanilla       61.0\n",
       "dtype: float64"
      ]
     },
     "execution_count": 36,
     "metadata": {},
     "output_type": "execute_result"
    }
   ],
   "source": [
    "S1 = pd.Series({'Mango':20, 'Strawberry': 15, 'Blueberry': 18, 'Vanilla': 31})\n",
    "S2 = pd.Series({'Strawberry': 25,'Vanilla': 30, 'Banana': 15, 'Mango':20, 'Plain': 20})\n",
    "\n",
    "S3 = S1.add(S2)\n",
    "\n",
    "print(S3['Blueberry'] == S1.add(S2, fill_value = 0)['Blueberry'])\n",
    "print(S3['Mango'] >=  S1.add(S2, fill_value = 0)['Mango'])\n",
    "print(S3['Blueberry'] == S1['Blueberry'])\n",
    "print(S3['Plain'] >= S3['Mango'])\n",
    "S3"
   ]
  },
  {
   "cell_type": "markdown",
   "metadata": {},
   "source": [
    "## Question 6\n",
    "In the following list of statements regarding a DataFrame df, one or more statements are correct. Can you identify all the correct statements?\n",
    "\n",
    "* Every time we call df.set_index(), the old index will be discarded.   `Correct`\n",
    "\n",
    "* Every time we call df.set_index(), the old index will be set as a new column.\n",
    "\n",
    "* Every time we call df.reset_index(), the old index will be discarded.\n",
    "\n",
    "* Every time we call df.reset_index(), the old index will be set as a new column.  `Correct`"
   ]
  },
  {
   "cell_type": "markdown",
   "metadata": {},
   "source": [
    "## Question 7\n",
    "Consider the Series object S defined below. Which of the following is an **incorrect** way to slice S such that we obtain all data points corresponding to the indices 'b', 'c', and 'd'?"
   ]
  },
  {
   "cell_type": "code",
   "execution_count": 39,
   "metadata": {},
   "outputs": [
    {
     "name": "stdout",
     "output_type": "stream",
     "text": [
      "b    1\n",
      "c    2\n",
      "d    3\n",
      "e    4\n",
      "dtype: int32\n",
      "b    1\n",
      "c    2\n",
      "d    3\n",
      "dtype: int32\n",
      "b    1\n",
      "c    2\n",
      "d    3\n",
      "dtype: int32\n",
      "b    1\n",
      "c    2\n",
      "d    3\n",
      "dtype: int32\n"
     ]
    }
   ],
   "source": [
    "S = pd.Series(np.arange(5), index=['a', 'b', 'c', 'd', 'e'])\n",
    "\n",
    "print(S['b':'e'])\n",
    "print(S[['b', 'c', 'd']])\n",
    "print(S[S <= 3][S > 0])\n",
    "print(S[1:4])"
   ]
  },
  {
   "cell_type": "markdown",
   "metadata": {},
   "source": [
    "## Question 8\n",
    "\n",
    "Consider the DataFrame df shown above with indexes 'R1', 'R2', 'R3', and 'R4'.  In the following code, a new DataFrame df_new is created using df. What will be the value of `df_new[1]` after the below code is executed?"
   ]
  },
  {
   "cell_type": "code",
   "execution_count": 46,
   "metadata": {},
   "outputs": [
    {
     "data": {
      "text/plain": [
       "88"
      ]
     },
     "execution_count": 46,
     "metadata": {},
     "output_type": "execute_result"
    }
   ],
   "source": [
    "list = {'a': [5, 5, 71, 67], 'b': [6, 82, 31, 37],'c': [20, 28, 92, 49]}\n",
    "df = pd.DataFrame(data=list).set_index(pd.Index(['R1', 'R2', 'R3', 'R4']))\n",
    "\n",
    "f = lambda x: x.max() + x.min()\n",
    "df_new = df.apply(f)\n",
    "df_new[1]"
   ]
  },
  {
   "cell_type": "code",
   "execution_count": null,
   "metadata": {},
   "outputs": [],
   "source": []
  }
 ],
 "metadata": {
  "kernelspec": {
   "display_name": "Python 3",
   "language": "python",
   "name": "python3"
  },
  "language_info": {
   "codemirror_mode": {
    "name": "ipython",
    "version": 3
   },
   "file_extension": ".py",
   "mimetype": "text/x-python",
   "name": "python",
   "nbconvert_exporter": "python",
   "pygments_lexer": "ipython3",
   "version": "3.8.3"
  }
 },
 "nbformat": 4,
 "nbformat_minor": 4
}
